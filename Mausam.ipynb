{
 "cells": [
  {
   "cell_type": "code",
   "execution_count": 1,
   "metadata": {},
   "outputs": [],
   "source": [
    "from bs4 import BeautifulSoup\n",
    "import requests\n",
    "\n",
    "url = \"http://www.mfd.gov.np/\"\n",
    "response = requests.get(url)\n",
    "\n",
    "soup = BeautifulSoup(response.content, \"html.parser\")"
   ]
  },
  {
   "cell_type": "code",
   "execution_count": 2,
   "metadata": {},
   "outputs": [],
   "source": [
    "right_table=soup.find('table', class_='table')"
   ]
  },
  {
   "cell_type": "code",
   "execution_count": 3,
   "metadata": {},
   "outputs": [
    {
     "data": {
      "text/plain": [
       "<table class=\"table\" style=\"margin-bottom: 0px\"><tr><th>Station</th><th class=\"center\">Maximum Temp.<br/>(°C)</th><th class=\"center\">Minimum Temp.<br/>(°C)</th><th class=\"center\">24 hrs Rainfall<br/>(mm)</th></tr><tr><td>Dipayal</td><td class=\"center\">34.0</td><td class=\"center\">15.8</td><td class=\"center\">0.0</td></tr><tr><td>Dadeldhura</td><td class=\"center\">24.8</td><td class=\"center\">11.3</td><td class=\"center\">0.0</td></tr><tr><td>Dhangadi</td><td class=\"center\">34.5</td><td class=\"center\">20.2</td><td class=\"center\">0.0</td></tr><tr><td>Birendranagar</td><td class=\"center\">31.5</td><td class=\"center\">16.5</td><td class=\"center\">0.0</td></tr><tr><td>Nepalgunj</td><td class=\"center\">34.2</td><td class=\"center\">21.4</td><td class=\"center\">0.0</td></tr><tr><td>Jumla</td><td class=\"center\">23.6</td><td class=\"center\">11.5</td><td class=\"center\">0.0</td></tr><tr><td>Dang</td><td class=\"center\">33.0</td><td class=\"center\">17.0</td><td class=\"center\">0.0</td></tr><tr><td>Pokhara</td><td class=\"center\">31.2</td><td class=\"center\">18.5</td><td class=\"center\">0.0</td></tr><tr><td>Bhairahawa</td><td class=\"center\">36.4</td><td class=\"center\">21.6</td><td class=\"center\">0.0</td></tr><tr><td>Simara</td><td class=\"center\">35.4</td><td class=\"center\">20.0</td><td class=\"center\">0.0</td></tr><tr><td>Kathmandu</td><td class=\"center\">30.5</td><td class=\"center\">14.4</td><td class=\"center\">0.0</td></tr><tr><td>Okhaldhunga</td><td class=\"center\">27.2</td><td class=\"center\">16.6</td><td class=\"center\">0.0</td></tr><tr><td>Taplejung</td><td class=\"center\">27.0</td><td class=\"center\">13.8</td><td class=\"center\">0.0</td></tr><tr><td>Dhankuta</td><td class=\"center\">29.6</td><td class=\"center\">16.4</td><td class=\"center\">0.0</td></tr><tr><td>Biratnagar</td><td class=\"center\">34.0</td><td class=\"center\">22.0</td><td class=\"center\">0.0</td></tr><tr><td>Jomsom</td><td class=\"center\">19.0</td><td class=\"center\">8.5</td><td class=\"center\">0.0*</td></tr><tr><td>Lumle</td><td class=\"center\">24.5</td><td class=\"center\">14.5</td><td class=\"center\">0.0*</td></tr><tr><td>Jankapur</td><td class=\"center\">34.2</td><td class=\"center\">23.8</td><td class=\"center\">0.0*</td></tr><tr><td>Jiri</td><td class=\"center\">26.0</td><td class=\"center\">9.5</td><td class=\"center\">0.0*</td></tr><tr><td align=\"right\" colspan=\"4\"><small>* Daily rainfall data ending at 08:45 AM NPT</small></td></tr></table>"
      ]
     },
     "execution_count": 3,
     "metadata": {},
     "output_type": "execute_result"
    }
   ],
   "source": [
    "right_table"
   ]
  },
  {
   "cell_type": "code",
   "execution_count": null,
   "metadata": {},
   "outputs": [],
   "source": []
  }
 ],
 "metadata": {
  "kernelspec": {
   "display_name": "Python 3",
   "language": "python",
   "name": "python3"
  },
  "language_info": {
   "codemirror_mode": {
    "name": "ipython",
    "version": 3
   },
   "file_extension": ".py",
   "mimetype": "text/x-python",
   "name": "python",
   "nbconvert_exporter": "python",
   "pygments_lexer": "ipython3",
   "version": "3.5.2"
  }
 },
 "nbformat": 4,
 "nbformat_minor": 2
}
